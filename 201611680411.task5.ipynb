{
 "cells": [
  {
   "cell_type": "code",
   "execution_count": null,
   "metadata": {},
   "outputs": [],
   "source": [
    "import random\n",
    "n=int(input(\"输入多少个数相加\"))\n",
    "a=random.randint(1,9)\n",
    "aaa=0\n",
    "i=0\n",
    "sum=0\n",
    "while i<n:\n",
    "    aaa=aaa+10**i*a\n",
    "    sum=sum+aaa\n",
    "    i += 1\n",
    "print(sum)"
   ]
  },
  {
   "cell_type": "code",
   "execution_count": null,
   "metadata": {},
   "outputs": [],
   "source": [
    "import random,math\n",
    "n=int(input(\"输入数字的个数n:\"))\n",
    "m=int(input(\"数字的上界m:\"))\n",
    "k=int(input(\"数字的下界k:\"))\n",
    "i=0\n",
    "sum=0\n",
    "while i<n:\n",
    "    sum=sum+random.randint(k,m)\n",
    "    i=i+1\n",
    "print(math.sqrt(sum/n))"
   ]
  },
  {
   "cell_type": "code",
   "execution_count": null,
   "metadata": {},
   "outputs": [],
   "source": [
    "import random,math\n",
    "n=int(input(\"输入数字的个数n:\"))\n",
    "m=int(input(\"数字的上界m:\"))\n",
    "k=int(input(\"数字的下界k:\"))\n",
    "i=0\n",
    "sum=0\n",
    "while i<n:\n",
    "    t=random.randint(k,m)\n",
    "    sum=sum+math.log(t)\n",
    "    i=i+1\n",
    "print(sum)"
   ]
  },
  {
   "cell_type": "code",
   "execution_count": null,
   "metadata": {},
   "outputs": [],
   "source": [
    "import random,math\n",
    "n=int(input(\"输入数字的个数n:\"))\n",
    "m=int(input(\"数字的上界m:\"))\n",
    "k=int(input(\"数字的下界k:\"))\n",
    "i=0\n",
    "sum=0\n",
    "while i<n:\n",
    "    sum=sum+1/math.log(random.randint(k,m))\n",
    "    i=i+1\n",
    "print(sum)"
   ]
  }
 ],
 "metadata": {
  "kernelspec": {
   "display_name": "Python 2",
   "language": "python",
   "name": "python2"
  },
  "language_info": {
   "codemirror_mode": {
    "name": "ipython",
    "version": 2.0
   },
   "file_extension": ".py",
   "mimetype": "text/x-python",
   "name": "python",
   "nbconvert_exporter": "python",
   "pygments_lexer": "ipython2",
   "version": "2.7.6"
  }
 },
 "nbformat": 4,
 "nbformat_minor": 0
}