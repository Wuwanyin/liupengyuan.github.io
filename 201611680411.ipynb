{
 "cells": [
  {
   "cell_type": "code",
   "execution_count": 6,
   "metadata": {
    "collapsed": false,
    "deletable": true,
    "editable": true
   },
   "outputs": [
    {
     "name": "stdout",
     "output_type": "stream",
     "text": [
      "请输入第1个整数，以回车结束。1\n",
      "请输入第2个整数，以回车结束。3\n",
      "请输入第3个整数，以回车结束。2\n",
      "最终的和是： 32\n"
     ]
    }
   ],
   "source": [
    "n = int(input('请输入第1个整数，以回车结束。'))\n",
    "i = 0\n",
    "total_n = 1\n",
    "while i <= n:\n",
    "    i = i + 1\n",
    "    total_n = total_n *i\n",
    "\n",
    "m = int(input('请输入第2个整数，以回车结束。'))\n",
    "i = 0\n",
    "total_m = 1\n",
    "while i <= m:\n",
    "    i = i + 1\n",
    "    total_m = total_m * i\n",
    "\n",
    "k = int(input('请输入第3个整数，以回车结束。'))\n",
    "i = 0\n",
    "total_k = 1\n",
    "while i <= k:\n",
    "    i = i + 1\n",
    "    total_k = total_k * i\n",
    "\n",
    "print('最终的和是：', total_n + total_m + total_k)"
   ]
  },
  {
   "cell_type": "code",
   "execution_count": 6,
   "metadata": {
    "collapsed": false,
    "deletable": true,
    "editable": true
   },
   "outputs": [
    {
     "name": "stdout",
     "output_type": "stream",
     "text": [
      "0.7803986631477527\n",
      "0.7848981638974463\n"
     ]
    }
   ],
   "source": [
    "n=100\n",
    "i=1\n",
    "sum=0\n",
    "while i<=n:\n",
    "    if i%4==1:\n",
    "        sum=sum+1/i\n",
    "    else: sum=sum-1/i\n",
    "    i=i+2\n",
    "print(sum)\n",
    "n=1000\n",
    "i=1\n",
    "sum=0\n",
    "while i<=n:\n",
    "    if i%4==1:\n",
    "        sum=sum+1/i\n",
    "    else: sum=sum-1/i\n",
    "    i=i+2\n",
    "print(sum)"
   ]
  },
  {
   "cell_type": "code",
   "execution_count": 11,
   "metadata": {
    "collapsed": false,
    "deletable": true,
    "editable": true
   },
   "outputs": [
    {
     "name": "stdout",
     "output_type": "stream",
     "text": [
      "请输入上界，以回车结束。8\n",
      "请输入下界，以回车结束。2\n",
      "请输入间隔，以回车结束。3\n",
      "15\n"
     ]
    }
   ],
   "source": [
    "def sum(m,n,k):\n",
    "    sum=0\n",
    "    i=m\n",
    "    while i<=n:\n",
    "        sum=sum+i\n",
    "        i=i+k\n",
    "    return sum\n",
    "n = int(input('请输入上界，以回车结束。'))\n",
    "m = int(input('请输入下界，以回车结束。'))\n",
    "k = int(input('请输入间隔，以回车结束。'))\n",
    "print(sum(m,n,k))"
   ]
  },
  {
   "cell_type": "code",
   "execution_count": null,
   "metadata": {
    "collapsed": true,
    "deletable": true,
    "editable": true
   },
   "outputs": [],
   "source": []
  },
  {
   "cell_type": "code",
   "execution_count": null,
   "metadata": {
    "collapsed": true,
    "deletable": true,
    "editable": true
   },
   "outputs": [],
   "source": []
  }
 ],
 "metadata": {
  "kernelspec": {
   "display_name": "Python 3",
   "language": "python",
   "name": "python3"
  },
  "language_info": {
   "codemirror_mode": {
    "name": "ipython",
    "version": 3
   },
   "file_extension": ".py",
   "mimetype": "text/x-python",
   "name": "python",
   "nbconvert_exporter": "python",
   "pygments_lexer": "ipython3",
   "version": "3.6.0"
  }
 },
 "nbformat": 4,
 "nbformat_minor": 2
}
